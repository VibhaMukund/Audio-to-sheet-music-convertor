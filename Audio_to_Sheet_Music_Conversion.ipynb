{
  "nbformat": 4,
  "nbformat_minor": 0,
  "metadata": {
    "colab": {
      "provenance": [],
      "authorship_tag": "ABX9TyOwttg5nYpnGNTvdjk3b9UT",
      "include_colab_link": true
    },
    "kernelspec": {
      "name": "python3",
      "display_name": "Python 3"
    },
    "language_info": {
      "name": "python"
    }
  },
  "cells": [
    {
      "cell_type": "markdown",
      "metadata": {
        "id": "view-in-github",
        "colab_type": "text"
      },
      "source": [
        "<a href=\"https://colab.research.google.com/github/VibhaMukund/Audio-to-sheet-music-convertor/blob/main/Audio_to_Sheet_Music_Conversion.ipynb\" target=\"_parent\"><img src=\"https://colab.research.google.com/assets/colab-badge.svg\" alt=\"Open In Colab\"/></a>"
      ]
    },
    {
      "cell_type": "markdown",
      "source": [
        "**DOWNLOAD MIDIUtil and pygame Libraries**\n",
        "\n",
        "MDUtil\n",
        "\n",
        "MIDIUtil is a pure Python library that allows one to write multi-track Musical Instrument Digital Interface (MIDI) files from within Python programs\n",
        "Musical Instrument Digital Interface (MIDI) is a standard to transmit and store music, originally designed for digital music synthesizers. MIDI does not transmit recorded sounds. Instead, it includes musical notes, timings and pitch information, which the receiving device uses to play music from its own sound library\n",
        "\n",
        "\n",
        "\n",
        "**pygame**\n",
        "\n",
        "Pygame is a cross-platform set of Python modules designed for writing video games. It includes computer graphics and sound libraries designed to be used with the Python programming language.\n"
      ],
      "metadata": {
        "id": "CwjbQOdzPF6R"
      }
    },
    {
      "cell_type": "code",
      "execution_count": null,
      "metadata": {
        "colab": {
          "base_uri": "https://localhost:8080/"
        },
        "id": "oam9YHGTOqi3",
        "outputId": "cec8154f-2f9d-4b56-da3d-b14c03b9bc0e"
      },
      "outputs": [
        {
          "output_type": "stream",
          "name": "stdout",
          "text": [
            "Requirement already satisfied: MIDIUtil in /usr/local/lib/python3.10/dist-packages (1.2.1)\n",
            "Requirement already satisfied: pygame in /usr/local/lib/python3.10/dist-packages (2.5.2)\n",
            "Requirement already satisfied: librosa in /usr/local/lib/python3.10/dist-packages (0.10.1)\n",
            "Requirement already satisfied: audioread>=2.1.9 in /usr/local/lib/python3.10/dist-packages (from librosa) (3.0.1)\n",
            "Requirement already satisfied: numpy!=1.22.0,!=1.22.1,!=1.22.2,>=1.20.3 in /usr/local/lib/python3.10/dist-packages (from librosa) (1.23.5)\n",
            "Requirement already satisfied: scipy>=1.2.0 in /usr/local/lib/python3.10/dist-packages (from librosa) (1.11.3)\n",
            "Requirement already satisfied: scikit-learn>=0.20.0 in /usr/local/lib/python3.10/dist-packages (from librosa) (1.2.2)\n",
            "Requirement already satisfied: joblib>=0.14 in /usr/local/lib/python3.10/dist-packages (from librosa) (1.3.2)\n",
            "Requirement already satisfied: decorator>=4.3.0 in /usr/local/lib/python3.10/dist-packages (from librosa) (4.4.2)\n",
            "Requirement already satisfied: numba>=0.51.0 in /usr/local/lib/python3.10/dist-packages (from librosa) (0.56.4)\n",
            "Requirement already satisfied: soundfile>=0.12.1 in /usr/local/lib/python3.10/dist-packages (from librosa) (0.12.1)\n",
            "Requirement already satisfied: pooch>=1.0 in /usr/local/lib/python3.10/dist-packages (from librosa) (1.7.0)\n",
            "Requirement already satisfied: soxr>=0.3.2 in /usr/local/lib/python3.10/dist-packages (from librosa) (0.3.7)\n",
            "Requirement already satisfied: typing-extensions>=4.1.1 in /usr/local/lib/python3.10/dist-packages (from librosa) (4.5.0)\n",
            "Requirement already satisfied: lazy-loader>=0.1 in /usr/local/lib/python3.10/dist-packages (from librosa) (0.3)\n",
            "Requirement already satisfied: msgpack>=1.0 in /usr/local/lib/python3.10/dist-packages (from librosa) (1.0.7)\n",
            "Requirement already satisfied: llvmlite<0.40,>=0.39.0dev0 in /usr/local/lib/python3.10/dist-packages (from numba>=0.51.0->librosa) (0.39.1)\n",
            "Requirement already satisfied: setuptools in /usr/local/lib/python3.10/dist-packages (from numba>=0.51.0->librosa) (67.7.2)\n",
            "Requirement already satisfied: platformdirs>=2.5.0 in /usr/local/lib/python3.10/dist-packages (from pooch>=1.0->librosa) (3.11.0)\n",
            "Requirement already satisfied: packaging>=20.0 in /usr/local/lib/python3.10/dist-packages (from pooch>=1.0->librosa) (23.2)\n",
            "Requirement already satisfied: requests>=2.19.0 in /usr/local/lib/python3.10/dist-packages (from pooch>=1.0->librosa) (2.31.0)\n",
            "Requirement already satisfied: threadpoolctl>=2.0.0 in /usr/local/lib/python3.10/dist-packages (from scikit-learn>=0.20.0->librosa) (3.2.0)\n",
            "Requirement already satisfied: cffi>=1.0 in /usr/local/lib/python3.10/dist-packages (from soundfile>=0.12.1->librosa) (1.16.0)\n",
            "Requirement already satisfied: pycparser in /usr/local/lib/python3.10/dist-packages (from cffi>=1.0->soundfile>=0.12.1->librosa) (2.21)\n",
            "Requirement already satisfied: charset-normalizer<4,>=2 in /usr/local/lib/python3.10/dist-packages (from requests>=2.19.0->pooch>=1.0->librosa) (3.3.0)\n",
            "Requirement already satisfied: idna<4,>=2.5 in /usr/local/lib/python3.10/dist-packages (from requests>=2.19.0->pooch>=1.0->librosa) (3.4)\n",
            "Requirement already satisfied: urllib3<3,>=1.21.1 in /usr/local/lib/python3.10/dist-packages (from requests>=2.19.0->pooch>=1.0->librosa) (2.0.6)\n",
            "Requirement already satisfied: certifi>=2017.4.17 in /usr/local/lib/python3.10/dist-packages (from requests>=2.19.0->pooch>=1.0->librosa) (2023.7.22)\n"
          ]
        }
      ],
      "source": [
        "!pip install MIDIUtil\n",
        "!pip install pygame\n",
        "!pip install librosa"
      ]
    },
    {
      "cell_type": "markdown",
      "source": [
        "**Music21**     \n",
        "\n",
        "is a Python-based toolkit for computer-aided musicology.\n",
        "\n",
        "People use music21 to answer questions from musicology using computers, to study large datasets of music, to generate musical examples, to teach fundamentals of music theory, to edit musical notation, study music and the brain, and to compose music (both algorithmically and directly).\n",
        "\n",
        "One of music21’s mottos is “Listen Faster.” With the toolkit you should be able to find interesting moments and get a sense of the overall profile of a piece or a repertory of pieces. We hope that with the computer you’ll have more time for listening and playing for enjoyment and use less of your time listening for work.\n",
        "\n",
        "\n",
        "**LIBROSA**\n",
        "\n",
        " is a Python package for music and audio analysis. It provides a wide range of features for extracting features from audio signals, processing signals, and training and deploying machine learning models for music and audio tasks. Librosa is open source and freely available under the ISC License.\n",
        "\n",
        "Librosa is widely used by researchers and practitioners in the field of music information retrieval (MIR), which is the field of developing methods for extracting and organizing knowledge from music and audio data. Librosa is also used in a variety of other applications, such as music production, audio editing, and speech processing.\n",
        "\n",
        "\n",
        "\n",
        "\n",
        "\n",
        "\n",
        "--  Python widgets are graphical user interface (GUI) elements that can be used to build interactive applications. They are typically used to allow users to input data, select options, and receive feedback."
      ],
      "metadata": {
        "id": "yXb-F5CnVTUe"
      }
    },
    {
      "cell_type": "code",
      "source": [],
      "metadata": {
        "id": "qb2jNmlLWj7-"
      },
      "execution_count": null,
      "outputs": []
    },
    {
      "cell_type": "code",
      "source": [
        "\n",
        "## General Imports\n",
        "import numpy as np\n",
        "\n",
        "## Visualization\n",
        "import seaborn\n",
        "import matplotlib.pyplot as plt\n",
        "import IPython.display as ipd\n",
        "from ipywidgets import interactive_output #http://ipywidgets.readthedocs.io/en/latest/index.html\n",
        "from ipywidgets import IntSlider, FloatSlider, fixed, Checkbox\n",
        "from ipywidgets import VBox, Label\n",
        "\n",
        "\n",
        "## Audio Imports\n",
        "import librosa, librosa.display           #https://librosa.github.io/librosa/index.html\n",
        "from midiutil import MIDIFile             #http://midiutil.readthedocs.io/en/1.2.1/\n",
        "from music21.tempo import MetronomeMark   #http://web.mit.edu/music21/\n",
        "from music21.note import Note, Rest\n",
        "from music21.stream import Stream\n",
        "from music21 import metadata\n",
        "from music21 import instrument\n",
        "from music21 import midi\n",
        "from music21.key import Key\n"
      ],
      "metadata": {
        "id": "ONAtYpebPCqR"
      },
      "execution_count": null,
      "outputs": []
    },
    {
      "cell_type": "markdown",
      "source": [
        "Path is where the music to be transcribed is stored\n",
        "\n",
        "the plots will happen in the notebook itself\n",
        "\n",
        "the size of the plot is mentioned to be of 8 inches\n",
        "\n"
      ],
      "metadata": {
        "id": "jTy0ss1pWvZN"
      }
    },
    {
      "cell_type": "code",
      "source": [
        "# Configurations\n",
        "\n",
        "## Path\n",
        "path = '/content/Audio-to-sheet-music-convertor/audio/music/'\n",
        "\n",
        "#%matplotlib notebook\n",
        "\n",
        "## Matplotlib\n",
        "plt.rc(\"figure\", figsize=(16, 8))"
      ],
      "metadata": {
        "id": "G1Q3ThB4Wuv-"
      },
      "execution_count": null,
      "outputs": []
    },
    {
      "cell_type": "markdown",
      "source": [
        "just setting some parameters it is not trivial but just for the initial commit\n"
      ],
      "metadata": {
        "id": "HYPJoncQ2Orf"
      }
    },
    {
      "cell_type": "code",
      "source": [
        "# Parameters\n",
        "## Signal Processing\n",
        "fs = 44100                               # Sampling Frequency\n",
        "nfft = 2048                              # length of the FFT window\n",
        "overlap = 0.5                            # Hop overlap percentage\n",
        "hop_length = int(nfft*(1-overlap))       # Number of samples between successive frames\n",
        "n_bins = 72                              # Number of frequency bins\n",
        "mag_exp = 4                              # Magnitude Exponent\n",
        "pre_post_max = 6                         # Pre- and post- samples for peak picking\n",
        "cqt_threshold = -61                      # Threshold for CQT dB levels, all values below threshold are set to -120 dB"
      ],
      "metadata": {
        "id": "e-NerB1J2O9T"
      },
      "execution_count": null,
      "outputs": []
    }
  ]
}